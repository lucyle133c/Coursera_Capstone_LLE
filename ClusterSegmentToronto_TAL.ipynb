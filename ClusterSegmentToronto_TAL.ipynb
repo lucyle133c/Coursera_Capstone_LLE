{
 "cells": [
  {
   "cell_type": "code",
   "execution_count": 175,
   "metadata": {},
   "outputs": [
    {
     "name": "stdout",
     "output_type": "stream",
     "text": [
      "Libraries imported.\n"
     ]
    }
   ],
   "source": [
    "import pandas as pd # library for data analsysis\n",
    "import requests\n",
    "from bs4 import BeautifulSoup\n",
    "print('Libraries imported.')"
   ]
  },
  {
   "cell_type": "code",
   "execution_count": 178,
   "metadata": {},
   "outputs": [],
   "source": [
    "website_url = requests.get('https://en.wikipedia.org/wiki/List_of_postal_codes_of_Canada:_M').text\n",
    "\n",
    "soup = BeautifulSoup(website_url,'lxml')\n",
    "#print(soup.prettify())\n",
    "My_table = soup.find('table',{'class':'wikitable sortable'})\n",
    "#print (My_table)\n",
    "\n",
    "table_classes = {\"class\": [\"sortable\", \"plainrowheaders\"]}\n",
    "wikitb = soup.findAll(\"table\", table_classes)\n",
    "#wikitb"
   ]
  },
  {
   "cell_type": "code",
   "execution_count": 183,
   "metadata": {},
   "outputs": [
    {
     "name": "stderr",
     "output_type": "stream",
     "text": [
      "/home/jupyterlab/conda/lib/python3.6/site-packages/ipykernel_launcher.py:46: SettingWithCopyWarning: \n",
      "A value is trying to be set on a copy of a slice from a DataFrame.\n",
      "Try using .loc[row_indexer,col_indexer] = value instead\n",
      "\n",
      "See the caveats in the documentation: http://pandas.pydata.org/pandas-docs/stable/indexing.html#indexing-view-versus-copy\n"
     ]
    },
    {
     "data": {
      "text/plain": [
       "(103, 3)"
      ]
     },
     "execution_count": 183,
     "metadata": {},
     "output_type": "execute_result"
    }
   ],
   "source": [
    "# define the dataframe columns\n",
    "column_names = ['PostCode', 'Borough', 'Neighbourhood'] \n",
    "# instantiate the dataframe\n",
    "neighborhoods = pd.DataFrame(columns=column_names)\n",
    "\n",
    "column1 = []\n",
    "column2 = []\n",
    "column3 = []\n",
    "\n",
    "for row in wikitb[0].findAll('tr'):\n",
    "    cells = row.findAll(['th','td'])\n",
    "    #print(cells)\n",
    "    for c in cells[0].findAll(text=True):\n",
    "        #print (c)\n",
    "        column1.append(c)\n",
    "    for c in cells[1].findAll(text=True):\n",
    "        #print (c)\n",
    "        column2.append(c)\n",
    "    #print (cells[2])\n",
    "    for c in cells[2].findAll(text=True):\n",
    "        #print (c.strip())\n",
    "        column3.append(c.strip())\n",
    "   \n",
    "column1.pop(0)\n",
    "column2.pop(0)\n",
    "column3.pop(0)\n",
    "\n",
    "neighborhoods['PostCode'] = column1\n",
    "neighborhoods['Borough'] = column2\n",
    "#print (len(column1))\n",
    "#print (len(column2))\n",
    "#print (len(column3))\n",
    "\n",
    "column3= [x for x in column3 if x!='']\n",
    "#neighborhoods['Borough'] = column2\n",
    "neighborhoods['Neighbourhood'] = column3\n",
    "#neighborhoods\n",
    "\n",
    "neighborhoods = neighborhoods[neighborhoods[\"Borough\"]!=\"Not assigned\"]\n",
    "neighborhoods = neighborhoods.groupby(['PostCode','Borough'], as_index = False)['Neighbourhood'].agg(list)\n",
    "\n",
    "#neighborhoods['Neighbourhood'] = neighborhoods['Neighbourhood'].map(lambda x: x.lstrip('[').rstrip(']'))\n",
    "neighborhoods['Neighbourhood'] = neighborhoods[\"Neighbourhood\"].apply(lambda x: ', '.join(x))\n",
    "\n",
    "line = neighborhoods[neighborhoods[\"Neighbourhood\"]==\"Not assigned\"]\n",
    "line['Neighbourhood'] = line['Borough']\n",
    "neighborhoods[neighborhoods[\"Neighbourhood\"]==\"Not assigned\"] = line\n",
    "\n",
    "neighborhoods\n",
    "\n",
    "neighborhoods.shape"
   ]
  },
  {
   "cell_type": "markdown",
   "metadata": {},
   "source": [
    "Assumption: there was only 1 table\n",
    "\n",
    "Assumption: assuming the Columns' names\n",
    "\n",
    "Assumption: all original columns had the same size"
   ]
  }
 ],
 "metadata": {
  "kernelspec": {
   "display_name": "Python 3",
   "language": "python",
   "name": "python3"
  },
  "language_info": {
   "codemirror_mode": {
    "name": "ipython",
    "version": 3
   },
   "file_extension": ".py",
   "mimetype": "text/x-python",
   "name": "python",
   "nbconvert_exporter": "python",
   "pygments_lexer": "ipython3",
   "version": "3.6.8"
  }
 },
 "nbformat": 4,
 "nbformat_minor": 2
}
